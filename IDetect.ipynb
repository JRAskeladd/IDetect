{
 "cells": [
  {
   "cell_type": "markdown",
   "id": "0d45a708",
   "metadata": {},
   "source": [
    "## Import Libraries"
   ]
  },
  {
   "cell_type": "code",
   "execution_count": 1,
   "id": "d6ef3d27",
   "metadata": {},
   "outputs": [],
   "source": [
    "import cv2\n",
    "import numpy as np"
   ]
  },
  {
   "cell_type": "markdown",
   "id": "2933d2b3",
   "metadata": {},
   "source": [
    "## Creating bound_person() method\n",
    "\n",
    "This method will take a frame to detect a person, make a bounding box then return the frame.\n",
    "\n",
    "We will use detectMultiScale() that returns:\n",
    "\n",
    "1 - Coordinates of the bounding box of a person x,y,w,h\n",
    "x and y are the starting coordinates of our box\n",
    "w and h are the width and the height of our box respectively\n",
    "\n",
    "2 - Confidence Value that it is a person"
   ]
  },
  {
   "cell_type": "code",
   "execution_count": 2,
   "id": "7a321fbf",
   "metadata": {},
   "outputs": [],
   "source": [
    "def bound_person(frame):\n",
    "    box_cordinates, weights =  HOGCV.detectMultiScale(frame, winStride = (4, 4), padding = (8, 8), scale = 1.03)\n",
    "    \n",
    "    person = 1\n",
    "    for x,y,w,h in box_cordinates:\n",
    "        cv2.rectangle(frame, (x,y), (x+w,y+h), (0,255,0), 2)\n",
    "        cv2.putText(frame, f'person {person}', (x,y), cv2.FONT_HERSHEY_SIMPLEX, 0.5, (0,0,255), 1)\n",
    "        person += 1\n",
    "    \n",
    "    \n",
    "    cv2.putText(frame, f'Persons detected: {person-1}', (40,70), cv2.FONT_HERSHEY_DUPLEX, 0.8, (0,0,255), 2)\n",
    "    cv2.imshow('IDetect', frame)\n",
    "\n",
    "    return frame"
   ]
  },
  {
   "cell_type": "markdown",
   "id": "9501874f",
   "metadata": {},
   "source": [
    "## Creating open_camera() method"
   ]
  },
  {
   "cell_type": "code",
   "execution_count": 3,
   "id": "c35b03d9",
   "metadata": {},
   "outputs": [],
   "source": [
    "def open_camera(writer=None):   \n",
    "    #Record from a webcam\n",
    "    cap = cv2.VideoCapture(0)\n",
    "    print('Detecting ...')\n",
    "    \n",
    "    #print fps\n",
    "    cap.set(cv2.CAP_PROP_FPS, 10)\n",
    "    fps = int(cap.get(5))\n",
    "    print(\"FPS:\", fps)\n",
    "\n",
    "    while True:\n",
    "        #Read frame by frame\n",
    "        ret, frame = cap.read()\n",
    "        \n",
    "        #We will pass each frame to our bound_person method\n",
    "        frame = bound_person(frame)\n",
    "        if writer is not None:\n",
    "            writer.writer(frame)\n",
    "            \n",
    "        #Press q to quit\n",
    "        if cv2.waitKey(1) == ord('q'):\n",
    "            break\n",
    "\n",
    "    cap.release()\n",
    "    cv2.destroyAllWindows()"
   ]
  },
  {
   "cell_type": "markdown",
   "id": "b07e9e5c",
   "metadata": {},
   "source": [
    "## Creating the Model\n",
    "\n",
    "HOG, or Histogram of Oriented Gradients, is a feature descriptor that is often used to extract features from image data. It is widely used in computer vision tasks for object detection.\n",
    "\n",
    "We will use it with SVM which is already implemented in OpenCV"
   ]
  },
  {
   "cell_type": "code",
   "execution_count": 4,
   "id": "72b40772",
   "metadata": {},
   "outputs": [],
   "source": [
    "HOGCV = cv2.HOGDescriptor()\n",
    "HOGCV.setSVMDetector(cv2.HOGDescriptor_getDefaultPeopleDetector())"
   ]
  },
  {
   "cell_type": "markdown",
   "id": "f0269c5a",
   "metadata": {},
   "source": [
    "## Running our Detector&Counter"
   ]
  },
  {
   "cell_type": "code",
   "execution_count": 5,
   "id": "f1ccaeb9",
   "metadata": {},
   "outputs": [
    {
     "name": "stdout",
     "output_type": "stream",
     "text": [
      "Detecting ...\n",
      "FPS: 30\n"
     ]
    }
   ],
   "source": [
    "open_camera()"
   ]
  }
 ],
 "metadata": {
  "kernelspec": {
   "display_name": "Python 3",
   "language": "python",
   "name": "python3"
  },
  "language_info": {
   "codemirror_mode": {
    "name": "ipython",
    "version": 3
   },
   "file_extension": ".py",
   "mimetype": "text/x-python",
   "name": "python",
   "nbconvert_exporter": "python",
   "pygments_lexer": "ipython3",
   "version": "3.8.8"
  }
 },
 "nbformat": 4,
 "nbformat_minor": 5
}
